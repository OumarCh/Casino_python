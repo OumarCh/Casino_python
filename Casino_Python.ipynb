{
 "cells": [
  {
   "cell_type": "markdown",
   "metadata": {},
   "source": [
    "# Faîtes vos jeux!"
   ]
  },
  {
   "cell_type": "markdown",
   "metadata": {},
   "source": [
    "Dans cette série de notebook, nous allons coder des jeux de casino en python."
   ]
  },
  {
   "cell_type": "markdown",
   "metadata": {},
   "source": [
    "### 1ère Partie"
   ]
  },
  {
   "cell_type": "markdown",
   "metadata": {},
   "source": [
    "### Poker éléctronique\n",
    "\n",
    "##### Règles du jeu:\n",
    "\n",
    "Le poker éléctronique est un jeu de type machine à sous,\n",
    "le joueur choisi sa mise, appui sur le bouton \"jouer\" et la machine lui propose un jeu de 5 cartes tirés d'un jeu de 52 cartes.\n",
    "Le jouer peut alors choisir des cartes à garder, il peut choisir d'en garder 0, 1, 2, 3 ou 4, puis rappuie sur le bouton. Selon le choix du joueur, la machine tire de nouveaux le nombre de carte qu'il faut pour constituer le tirage final. \n",
    "Enfin le joueur récupère ses gains qui correspondent au montant de sa mise multiplié par le gain correspondant à la combinaison obtenue sur le tirage final. Si il n'a aucune combinaison il perd sa mise.\n",
    "\n",
    "##### Combinaison et gains:\n",
    "\n",
    "-Paire : 2 cartes identiques => 1 fois la mise\n",
    "\n",
    "-Double Paire : deux fois 2 cartes identiques => 2 fois la mise\n",
    "\n",
    "-Brelan : 3 cartes identiques => 3 fois la mise\n",
    "\n",
    "-Quinte : 5 cartes identiques => 4 fois la mise\n",
    "\n",
    "-Flush : 5 cartes de la même couleur => 6 fois la mise\n",
    "\n",
    "-Full : 1 paire + 1 brelan => 9 fois la mise\n",
    "\n",
    "-Carré : 4 cartes identiques => 25 fois la mise\n",
    "\n",
    "-Quinte Flush : 1 quinte de la même couleur => 50 fois la mise\n",
    "\n",
    "-Quinte Flush Royale : 1 quinte flush avec as, roi, dame, valet, 10 => 250 fois la mise."
   ]
  },
  {
   "cell_type": "code",
   "execution_count": 15,
   "metadata": {},
   "outputs": [],
   "source": [
    "import pandas as pd\n",
    "import random\n",
    "import modules.helpers as h\n",
    "import modules.tirage as t\n",
    "import modules.combinaisons as c"
   ]
  },
  {
   "cell_type": "markdown",
   "metadata": {},
   "source": [
    "Le deck represente le jeu de carte : \n",
    "\n",
    "chaque carte est représentée par :\n",
    "    \n",
    "- un chiffre ou un lettre majuscule qui représente la valeur de la carte ( J = Valet, Q = Dame, K = Roi, A = As )\n",
    "- une lettre minuscule qui représente la couleur ( h = Hearts = Coeur, d = Diamonds = Carreau, c = Clubs = Trèfle, s = Spades = Pique )"
   ]
  },
  {
   "cell_type": "code",
   "execution_count": 16,
   "metadata": {},
   "outputs": [],
   "source": [
    "deck = ['2-h','3-h','4-h','5-h','6-h','7-h','8-h','9-h','10-h','J-h','Q-h','K-h','A-h','2-d','3-d','4-d','5-d','6-d','7-d','8-d','9-d','10-d','J-d','Q-d','K-d','A-d','2-c','3-c','4-c','5-c','6-c','7-c','8-c','9-c','10-c','J-c','Q-c','K-c','A-c','2-s','3-s','4-s','5-s','6-s','7-s','8-s','9-s','10-s','J-s','Q-s','K-s','A-s']"
   ]
  },
  {
   "cell_type": "code",
   "execution_count": 17,
   "metadata": {},
   "outputs": [
    {
     "data": {
      "text/plain": [
       "52"
      ]
     },
     "execution_count": 17,
     "metadata": {},
     "output_type": "execute_result"
    }
   ],
   "source": [
    "len(deck)"
   ]
  },
  {
   "cell_type": "markdown",
   "metadata": {},
   "source": [
    "Créer une fonction, nommée premier_tirage, permettant de faire un tirage aléatoire sans remise dans le deck.\n",
    "Les cartes tirées devront être retirées du deck pour le deuxième tirage.\n",
    "La fonction devra retourner le tirage, et le nouveau deck. "
   ]
  },
  {
   "cell_type": "code",
   "execution_count": 18,
   "metadata": {},
   "outputs": [
    {
     "data": {
      "text/plain": [
       "['5-h', 'A-s', '3-d', '2-c', 'Q-d']"
      ]
     },
     "execution_count": 18,
     "metadata": {},
     "output_type": "execute_result"
    }
   ],
   "source": [
    "#C'est dans le module tirage\n",
    "firstRound, deck = t.premier_tirage(deck)\n",
    "firstRound"
   ]
  },
  {
   "cell_type": "markdown",
   "metadata": {},
   "source": [
    "Créer une fonction, nommée choix_carte, qui prend un tirage en entrée, et permet au joueur de choisir quelle carte il garde ou non pour le deuxième tirage. La fonction devra retourner le jeu avec les carte que le joueur aura garder."
   ]
  },
  {
   "cell_type": "code",
   "execution_count": 19,
   "metadata": {},
   "outputs": [
    {
     "name": "stdout",
     "output_type": "stream",
     "text": [
      "Voulez vous garder la carte (y/n)? :  5-h\n",
      "y\n",
      "Voulez vous garder la carte (y/n)? :  A-s\n",
      "n\n",
      "Voulez vous garder la carte (y/n)? :  3-d\n",
      "n\n",
      "Voulez vous garder la carte (y/n)? :  2-c\n",
      "\n",
      "Voulez vous garder la carte (y/n)? :  Q-d\n",
      "y\n"
     ]
    }
   ],
   "source": [
    "#C'est dans le module helpers\n",
    "game, deck = h.choix_carte(firstRound, deck)"
   ]
  },
  {
   "cell_type": "markdown",
   "metadata": {},
   "source": [
    "Créer un fonction, nommée deuxieme_tirage, qui permet, à partir du jeu obtenu avec la fonction choix_carte et le deck obtenu avec la fonction premier tirage, de constituer le tirage final du joueur. La fonction devra retourner le tirage final."
   ]
  },
  {
   "cell_type": "code",
   "execution_count": 20,
   "metadata": {},
   "outputs": [
    {
     "data": {
      "text/plain": [
       "['5-h', 'Q-d', '6-c', 'J-h', 'K-c']"
      ]
     },
     "execution_count": 20,
     "metadata": {},
     "output_type": "execute_result"
    }
   ],
   "source": [
    "#C'est dans le module tirage\n",
    "game, deck = t.deuxieme_tirage(game, deck)\n",
    "game"
   ]
  },
  {
   "cell_type": "markdown",
   "metadata": {},
   "source": [
    "Grâce aux fonctions créées précédemment, faire un fonction nommée machine, qui fait le premier tirage, l'affiche, propose au joueur les cartes afin de choisir celles à garder, puis fait le deuxième tirage et l'affiche et le retourne."
   ]
  },
  {
   "cell_type": "code",
   "execution_count": 21,
   "metadata": {},
   "outputs": [
    {
     "name": "stdout",
     "output_type": "stream",
     "text": [
      "['J-h', 'Q-d', 'K-d', '9-h', '8-s']\n",
      "Voulez vous garder la carte (y/n)? :  J-h\n",
      "y\n",
      "Voulez vous garder la carte (y/n)? :  Q-d\n",
      "y\n",
      "Voulez vous garder la carte (y/n)? :  K-d\n",
      "y\n",
      "Voulez vous garder la carte (y/n)? :  9-h\n",
      "n\n",
      "Voulez vous garder la carte (y/n)? :  8-s\n",
      "n\n",
      "['J-h', 'Q-d', 'K-d']\n",
      "['J-h', 'Q-d', 'K-d', 'J-d', 'A-d']\n"
     ]
    },
    {
     "data": {
      "text/plain": [
       "['J-h', 'Q-d', 'K-d', 'J-d', 'A-d']"
      ]
     },
     "execution_count": 21,
     "metadata": {},
     "output_type": "execute_result"
    }
   ],
   "source": [
    "#C'est dans le module helpers\n",
    "h.machine()"
   ]
  },
  {
   "cell_type": "markdown",
   "metadata": {},
   "source": [
    "Trouver un moyen de tester un tirage pour voir si il correspond à une des combinaisons gagnantes."
   ]
  },
  {
   "cell_type": "code",
   "execution_count": null,
   "metadata": {},
   "outputs": [],
   "source": [
    "#C'est dans le module combinaisons"
   ]
  },
  {
   "cell_type": "markdown",
   "metadata": {},
   "source": [
    "Créer une fonction permettant de calculer les gains et d'afficher le résultat au joueur."
   ]
  },
  {
   "cell_type": "code",
   "execution_count": null,
   "metadata": {},
   "outputs": [],
   "source": [
    "#C'est dans le module helpers"
   ]
  },
  {
   "cell_type": "markdown",
   "metadata": {},
   "source": [
    "Créer une fonction, nommée partie, qui prend en entrée une mise et une bankroll (total de l'argent disponible pour jouer), perment de faire le tirage, et calcule la nouvelle bankroll en fonction des gains. La fonction devra retourner le resultat de la partie et la nouvelle bankroll."
   ]
  },
  {
   "cell_type": "code",
   "execution_count": 14,
   "metadata": {},
   "outputs": [],
   "source": [
    "#C'est dans le module helpers"
   ]
  },
  {
   "cell_type": "markdown",
   "metadata": {},
   "source": [
    "Créer une fonction, nommée video_poker, qui permet au joueur \"d'inserer de l'argent\" (bankroll), de choisir la mise puis de jouer jusqu'a avoir tout perdu (ou pas si il a de la chance!)"
   ]
  },
  {
   "cell_type": "code",
   "execution_count": 12,
   "metadata": {},
   "outputs": [
    {
     "name": "stdout",
     "output_type": "stream",
     "text": [
      "Bank: 800\n",
      "Faites vos jeux: 200\n",
      "['10-s', '8-d', '7-c', 'J-h', '7-d']\n",
      "Voulez vous garder la carte (y/n)? :  10-s\n",
      "y\n",
      "Voulez vous garder la carte (y/n)? :  8-d\n",
      "n\n",
      "Voulez vous garder la carte (y/n)? :  7-c\n",
      "n\n",
      "Voulez vous garder la carte (y/n)? :  J-h\n",
      "n\n",
      "Voulez vous garder la carte (y/n)? :  7-d\n",
      "n\n",
      "['10-s']\n",
      "['10-s', '2-s', '3-d', '5-d', 'Q-s']\n"
     ]
    },
    {
     "ename": "TypeError",
     "evalue": "quinte_flush_royale() takes 1 positional argument but 2 were given",
     "output_type": "error",
     "traceback": [
      "\u001b[0;31m---------------------------------------------------------------------------\u001b[0m",
      "\u001b[0;31mTypeError\u001b[0m                                 Traceback (most recent call last)",
      "\u001b[0;32m<ipython-input-12-9617406bc519>\u001b[0m in \u001b[0;36m<module>\u001b[0;34m\u001b[0m\n\u001b[1;32m      1\u001b[0m \u001b[0;31m#C'est dans le module helpers\u001b[0m\u001b[0;34m\u001b[0m\u001b[0;34m\u001b[0m\u001b[0;34m\u001b[0m\u001b[0m\n\u001b[0;32m----> 2\u001b[0;31m \u001b[0mh\u001b[0m\u001b[0;34m.\u001b[0m\u001b[0mvideo_poker\u001b[0m\u001b[0;34m(\u001b[0m\u001b[0;34m)\u001b[0m\u001b[0;34m\u001b[0m\u001b[0;34m\u001b[0m\u001b[0m\n\u001b[0m",
      "\u001b[0;32m/Tchiwara/python/PythonCasino/modules/helpers.py\u001b[0m in \u001b[0;36mvideo_poker\u001b[0;34m()\u001b[0m\n\u001b[1;32m     92\u001b[0m         \u001b[0mprint\u001b[0m\u001b[0;34m(\u001b[0m\u001b[0mresult\u001b[0m\u001b[0;34m)\u001b[0m\u001b[0;34m\u001b[0m\u001b[0;34m\u001b[0m\u001b[0m\n\u001b[1;32m     93\u001b[0m         \u001b[0mprint\u001b[0m\u001b[0;34m(\u001b[0m\u001b[0;34m\"Bank: \"\u001b[0m \u001b[0;34m+\u001b[0m \u001b[0mstr\u001b[0m\u001b[0;34m(\u001b[0m\u001b[0mbankroll\u001b[0m\u001b[0;34m)\u001b[0m\u001b[0;34m)\u001b[0m\u001b[0;34m\u001b[0m\u001b[0;34m\u001b[0m\u001b[0m\n\u001b[0;32m---> 94\u001b[0;31m         \u001b[0;32mif\u001b[0m \u001b[0mbankroll\u001b[0m \u001b[0;34m==\u001b[0m \u001b[0;36m0\u001b[0m\u001b[0;34m:\u001b[0m\u001b[0;34m\u001b[0m\u001b[0;34m\u001b[0m\u001b[0m\n\u001b[0m\u001b[1;32m     95\u001b[0m             \u001b[0mprint\u001b[0m\u001b[0;34m(\u001b[0m\u001b[0;34m\"Game Over\"\u001b[0m\u001b[0;34m)\u001b[0m\u001b[0;34m\u001b[0m\u001b[0;34m\u001b[0m\u001b[0m\n\u001b[1;32m     96\u001b[0m             \u001b[0;32mbreak\u001b[0m\u001b[0;34m\u001b[0m\u001b[0;34m\u001b[0m\u001b[0m\n",
      "\u001b[0;32m/Tchiwara/python/PythonCasino/modules/helpers.py\u001b[0m in \u001b[0;36mpartie\u001b[0;34m(money, bankroll)\u001b[0m\n\u001b[1;32m     81\u001b[0m     \u001b[0mbankroll\u001b[0m \u001b[0;34m=\u001b[0m \u001b[0mbankroll\u001b[0m \u001b[0;34m-\u001b[0m \u001b[0mmoney\u001b[0m\u001b[0;34m\u001b[0m\u001b[0;34m\u001b[0m\u001b[0m\n\u001b[1;32m     82\u001b[0m     \u001b[0mbankroll\u001b[0m \u001b[0;34m+=\u001b[0m \u001b[0mtotal\u001b[0m\u001b[0;34m\u001b[0m\u001b[0;34m\u001b[0m\u001b[0m\n\u001b[0;32m---> 83\u001b[0;31m     \u001b[0;32mreturn\u001b[0m \u001b[0mresult\u001b[0m\u001b[0;34m,\u001b[0m \u001b[0mtotal\u001b[0m\u001b[0;34m\u001b[0m\u001b[0;34m\u001b[0m\u001b[0m\n\u001b[0m\u001b[1;32m     84\u001b[0m \u001b[0;34m\u001b[0m\u001b[0m\n\u001b[1;32m     85\u001b[0m \u001b[0;34m\u001b[0m\u001b[0m\n",
      "\u001b[0;32m/Tchiwara/python/PythonCasino/modules/helpers.py\u001b[0m in \u001b[0;36mcalculer_gain\u001b[0;34m(final_game, money)\u001b[0m\n\u001b[1;32m     37\u001b[0m         \u001b[0mtotal\u001b[0m \u001b[0;34m=\u001b[0m \u001b[0mmoney\u001b[0m\u001b[0;34m*\u001b[0m\u001b[0;36m250\u001b[0m\u001b[0;34m\u001b[0m\u001b[0;34m\u001b[0m\u001b[0m\n\u001b[1;32m     38\u001b[0m         \u001b[0mresult\u001b[0m \u001b[0;34m=\u001b[0m \u001b[0;34m\"Quite Flush Royale !!! Vous gagnez \"\u001b[0m \u001b[0;34m+\u001b[0m \u001b[0mstr\u001b[0m\u001b[0;34m(\u001b[0m\u001b[0mtotal\u001b[0m\u001b[0;34m)\u001b[0m \u001b[0;34m+\u001b[0m \u001b[0;34m\"euros !\"\u001b[0m\u001b[0;34m\u001b[0m\u001b[0;34m\u001b[0m\u001b[0m\n\u001b[0;32m---> 39\u001b[0;31m         \u001b[0;32mreturn\u001b[0m \u001b[0mtotal\u001b[0m\u001b[0;34m,\u001b[0m \u001b[0mresult\u001b[0m\u001b[0;34m\u001b[0m\u001b[0;34m\u001b[0m\u001b[0m\n\u001b[0m\u001b[1;32m     40\u001b[0m     \u001b[0;32melif\u001b[0m \u001b[0mc\u001b[0m\u001b[0;34m.\u001b[0m\u001b[0mquinte_flush\u001b[0m\u001b[0;34m(\u001b[0m\u001b[0mfinal_game\u001b[0m\u001b[0;34m)\u001b[0m \u001b[0;34m==\u001b[0m \u001b[0;32mTrue\u001b[0m\u001b[0;34m:\u001b[0m\u001b[0;34m\u001b[0m\u001b[0;34m\u001b[0m\u001b[0m\n\u001b[1;32m     41\u001b[0m         \u001b[0mtotal\u001b[0m \u001b[0;34m=\u001b[0m \u001b[0mmoney\u001b[0m\u001b[0;34m*\u001b[0m\u001b[0;36m50\u001b[0m\u001b[0;34m\u001b[0m\u001b[0;34m\u001b[0m\u001b[0m\n",
      "\u001b[0;31mTypeError\u001b[0m: quinte_flush_royale() takes 1 positional argument but 2 were given"
     ]
    }
   ],
   "source": [
    "#C'est dans le module helpers\n",
    "h.video_poker()"
   ]
  },
  {
   "cell_type": "markdown",
   "metadata": {},
   "source": [
    "Reprenez le notebook en scripts, et executez votre programme dans votre terminal."
   ]
  },
  {
   "cell_type": "code",
   "execution_count": null,
   "metadata": {},
   "outputs": [],
   "source": []
  }
 ],
 "metadata": {
  "kernelspec": {
   "display_name": "Python 3",
   "language": "python",
   "name": "python3"
  },
  "language_info": {
   "codemirror_mode": {
    "name": "ipython",
    "version": 3
   },
   "file_extension": ".py",
   "mimetype": "text/x-python",
   "name": "python",
   "nbconvert_exporter": "python",
   "pygments_lexer": "ipython3",
   "version": "3.7.5"
  }
 },
 "nbformat": 4,
 "nbformat_minor": 4
}
